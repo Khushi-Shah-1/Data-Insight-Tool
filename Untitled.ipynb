{
 "cells": [
  {
   "cell_type": "code",
   "execution_count": 1,
   "id": "063f96bd",
   "metadata": {},
   "outputs": [
    {
     "name": "stderr",
     "output_type": "stream",
     "text": [
      "C:\\Users\\khushi shah\\Anaconda3\\lib\\site-packages\\numpy\\_distributor_init.py:32: UserWarning: loaded more than 1 DLL from .libs:\n",
      "C:\\Users\\khushi shah\\Anaconda3\\lib\\site-packages\\numpy\\.libs\\libopenblas.NOIJJG62EMASZI6NYURL6JBKM4EVBGM7.gfortran-win_amd64.dll\n",
      "C:\\Users\\khushi shah\\Anaconda3\\lib\\site-packages\\numpy\\.libs\\libopenblas.WCDJNK7YVMPZQ2ME2ZZHJJRJ3JIKNDB7.gfortran-win_amd64.dll\n",
      "  stacklevel=1)\n",
      "2021-10-18 20:33:06.179 INFO    visions.backends: Pandas backend loaded 1.2.5\n",
      "2021-10-18 20:33:06.200 INFO    visions.backends: Numpy backend loaded 1.19.5\n",
      "2021-10-18 20:33:06.201 INFO    visions.backends: Pyspark backend NOT loaded\n",
      "2021-10-18 20:33:06.202 INFO    visions.backends: Python backend loaded\n",
      "2021-10-18 20:33:07.252 \n",
      "  \u001b[33m\u001b[1mWarning:\u001b[0m to view this Streamlit app on a browser, run it with the following\n",
      "  command:\n",
      "\n",
      "    streamlit run C:\\Users\\khushi shah\\Anaconda3\\lib\\site-packages\\ipykernel_launcher.py [ARGUMENTS]\n"
     ]
    }
   ],
   "source": [
    "import numpy as np\n",
    "import pandas as pd\n",
    "import streamlit as st\n",
    "from pandas_profiling import ProfileReport\n",
    "from streamlit_pandas_profiling import st_profile_report\n",
    "\n",
    "st.markdown('App that makes EDA simple')\n",
    "\n",
    "with st.sidebar.header('1. Upload your CSV file'):\n",
    "    uploaded_file= st.sidebar.file_uploader('Upload your input csv file', type=[\"csv\"])\n",
    "\n",
    "if uploaded_file is not None:\n",
    "    df= pd.read_csv(uploaded_file)\n",
    "    pr= ProfileReport(df, explorative=True)\n",
    "    st.header('**Input Dataframe**')\n",
    "    st.write(df)\n",
    "    st.write('---')\n",
    "    st.header('** Pandas profiling report **')\n",
    "    st_profile_report(pr)\n",
    "else:\n",
    "    st.info('Awaiting for CSV file to be uploaded.')\n",
    "    if st.button('Press to use Example Dataset'):\n",
    "        @st.cache\n",
    "        def load_data():\n",
    "            a = pd.DataFrame(\n",
    "                np.random.rand(100, 4),\n",
    "                columns=['a', 'b', 'c', 'd']\n",
    "            )\n",
    "            return a\n",
    "        df = load_data()\n",
    "        pr = ProfileReport(df, explorative=True)\n",
    "        st.header('**Input DataFrame**')\n",
    "        st.write(df)\n",
    "        st.write('---')\n",
    "        st.header('**Pandas Profiling Report**')\n",
    "        st_profile_report(pr)"
   ]
  },
  {
   "cell_type": "code",
   "execution_count": 2,
   "id": "1804f951",
   "metadata": {},
   "outputs": [
    {
     "ename": "SyntaxError",
     "evalue": "invalid syntax (<ipython-input-2-55353178a5aa>, line 1)",
     "output_type": "error",
     "traceback": [
      "\u001b[1;36m  File \u001b[1;32m\"<ipython-input-2-55353178a5aa>\"\u001b[1;36m, line \u001b[1;32m1\u001b[0m\n\u001b[1;33m    streamlit run C:\\Users\\khushi shah\\Anaconda3\\lib\\site-packages\\ipykernel_launcher.py\u001b[0m\n\u001b[1;37m                ^\u001b[0m\n\u001b[1;31mSyntaxError\u001b[0m\u001b[1;31m:\u001b[0m invalid syntax\n"
     ]
    }
   ],
   "source": [
    "streamlit run C:\\Users\\khushi shah\\Anaconda3\\lib\\site-packages\\ipykernel_launcher.py "
   ]
  },
  {
   "cell_type": "code",
   "execution_count": null,
   "id": "4197daa2",
   "metadata": {},
   "outputs": [],
   "source": []
  }
 ],
 "metadata": {
  "kernelspec": {
   "display_name": "Python 3",
   "language": "python",
   "name": "python3"
  },
  "language_info": {
   "codemirror_mode": {
    "name": "ipython",
    "version": 3
   },
   "file_extension": ".py",
   "mimetype": "text/x-python",
   "name": "python",
   "nbconvert_exporter": "python",
   "pygments_lexer": "ipython3",
   "version": "3.7.4"
  }
 },
 "nbformat": 4,
 "nbformat_minor": 5
}
